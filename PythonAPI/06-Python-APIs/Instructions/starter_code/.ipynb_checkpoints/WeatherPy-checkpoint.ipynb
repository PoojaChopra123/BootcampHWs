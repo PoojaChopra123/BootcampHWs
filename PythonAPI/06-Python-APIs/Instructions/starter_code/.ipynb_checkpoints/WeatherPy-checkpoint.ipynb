{
 "cells": [
  {
   "cell_type": "code",
   "execution_count": null,
   "metadata": {
    "scrolled": true
   },
   "outputs": [],
   "source": [
    "# Dependencies and Setup\n",
    "import matplotlib.pyplot as plt\n",
    "import pandas as pd\n",
    "import numpy as np\n",
    "import requests\n",
    "import time\n",
    "import json\n",
    "\n",
    "# Import API key\n",
    "import api_keys\n",
    "\n",
    "# Incorporated citipy to determine city based on latitude and longitude\n",
    "from citipy import citipy\n",
    "\n",
    "# Output File (CSV)\n",
    "output_data_file = \"output_data/cities.csv\"\n",
    "\n",
    "# Range of latitudes and longitudes\n",
    "lat_range = (-90, 90)\n",
    "lng_range = (-180, 180)"
   ]
  },
  {
   "cell_type": "markdown",
   "metadata": {},
   "source": [
    "## Generate Cities List"
   ]
  },
  {
   "cell_type": "code",
   "execution_count": null,
   "metadata": {},
   "outputs": [],
   "source": [
    "# List for holding lat_lngs and cities\n",
    "lat_lngs = []\n",
    "cities = []\n",
    "\n",
    "# Create a set of random lat and lng combinations\n",
    "lats = np.random.uniform(low=-90.000, high=90.000, size=1500)\n",
    "lngs = np.random.uniform(low=-180.000, high=180.000, size=1500)\n",
    "lat_lngs = zip(lats, lngs)\n",
    "\n",
    "# Identify nearest city for each lat, lng combination\n",
    "for lat_lng in lat_lngs:\n",
    "    city = citipy.nearest_city(lat_lng[0], lat_lng[1]).city_name\n",
    "    \n",
    "    # If the city is unique, then add it to a our cities list\n",
    "    if city not in cities:\n",
    "        cities.append(city)\n",
    "\n",
    "# Print the city count to confirm sufficient count\n",
    "len(cities)"
   ]
  },
  {
   "cell_type": "markdown",
   "metadata": {},
   "source": [
    "## Perform API Calls"
   ]
  },
  {
   "cell_type": "code",
   "execution_count": null,
   "metadata": {},
   "outputs": [],
   "source": [
    "# OpenWeatherMap API Key\n",
    "api_key = api_keys.api_key\n",
    "cities_names = []\n",
    "counter = 1\n",
    "set_number = 1\n",
    "print(\"Beginning Data Retrieval\")\n",
    "print(\"----------------------------\")\n",
    "for city in cities:\n",
    " \n",
    "    url = \"http://api.openweathermap.org/data/2.5/weather?units=Imperial&appid=\" + api_key + \"&q=\" + city\n",
    "    weather_json = requests.get(url).json()\n",
    "    \n",
    "    if weather_json[\"cod\"] == 200:\n",
    "        city_name = weather_json[\"name\"]\n",
    "        cities_names.append(city_name)\n",
    "        print(f\"Processing Record {counter} of Set {set_number} | {city_name}\")\n",
    "        print(f\"{url}\")\n",
    "        counter = counter + 1\n",
    "        if counter == 50:\n",
    "            set_number = set_number + 1\n",
    "            counter = 0\n",
    "            \n",
    "print(\"-----------------------------\")\n",
    "print(\"Data Retrieval Complete\")\n",
    "print(\"-----------------------------\")"
   ]
  },
  {
   "cell_type": "code",
   "execution_count": null,
   "metadata": {},
   "outputs": [],
   "source": [
    "#for city in cities:\n",
    "temperature = []\n",
    "humidity = []\n",
    "cloudiness = []\n",
    "wind_speed = []\n",
    "latitude = []\n",
    "longitude = []\n",
    "date = []\n",
    "country = []\n",
    "\n",
    "\n",
    "\n",
    "\n",
    "for city in cities:\n",
    " \n",
    "    url = \"http://api.openweathermap.org/data/2.5/weather?units=Imperial&appid=\" + api_key + \"&q=\" + city\n",
    "    weather_json = requests.get(url).json()\n",
    "    if weather_json[\"cod\"] == 200:\n",
    "        \n",
    "        temp = weather_json[\"main\"][\"temp\"]\n",
    "        hum = weather_json[\"main\"][\"humidity\"] \n",
    "        cloud = weather_json[\"clouds\"][\"all\"]\n",
    "        ws = weather_json[\"wind\"][\"speed\"]\n",
    "        lat = weather_json[\"coord\"][\"lat\"]\n",
    "        lng = weather_json[\"coord\"][\"lon\"]\n",
    "        dt = weather_json[\"dt\"]\n",
    "        ct = weather_json[\"sys\"][\"country\"]\n",
    "        temperature.append(temp)\n",
    "        humidity.append(hum)\n",
    "        cloudiness.append(cloud)\n",
    "        wind_speed.append(ws)\n",
    "        latitude.append(lat)\n",
    "        longitude.append(lat)\n",
    "        date.append(dt)\n",
    "        country.append(ct)\n",
    "        \n",
    "        \n",
    "\n",
    "city_data = pd.DataFrame({\"City\": cities_names,\n",
    "                          \"Cloudiness\": cloudiness,\n",
    "                          \"Country\": country,\n",
    "                          \"Date\": date,\n",
    "                          \"Humidity\": humidity,\n",
    "                          \"Lat\": latitude,\n",
    "                          \"Lng\": longitude,\n",
    "                          \"Max Temp\": temperature,\n",
    "                          \"Wind Speed\": wind_speed})\n",
    "\n",
    "city_data.head()\n"
   ]
  },
  {
   "cell_type": "code",
   "execution_count": null,
   "metadata": {},
   "outputs": [],
   "source": []
  },
  {
   "cell_type": "code",
   "execution_count": null,
   "metadata": {},
   "outputs": [],
   "source": []
  },
  {
   "cell_type": "code",
   "execution_count": null,
   "metadata": {},
   "outputs": [],
   "source": [
    "#Temperature (F) vs. Latitude\n",
    "plt.xlabel('Latitude')\n",
    "plt.ylabel('Max Temperature (F)')\n",
    "plt.title('City Latitude vs. Max Temperature')\n",
    "\n",
    "x_axis = latitude\n",
    "y_axis = temperature\n",
    "\n",
    "plt.scatter(x_axis, y_axis, marker=\"o\", facecolors=\"blue\", edgecolors=\"black\")"
   ]
  },
  {
   "cell_type": "code",
   "execution_count": null,
   "metadata": {},
   "outputs": [],
   "source": [
    "#Humidity (%) vs. Latitude\n",
    "plt.xlabel('Latitude')\n",
    "plt.ylabel('Humidity (%)')\n",
    "plt.title('City Latitude vs. Humidity')\n",
    "#plt.xlim(0, max(mouse_count.index)+1)\n",
    "x_axis = latitude\n",
    "y_axis = humidity\n",
    "plt.scatter(x_axis, y_axis, marker=\"o\", facecolors=\"blue\", edgecolors=\"black\")"
   ]
  },
  {
   "cell_type": "code",
   "execution_count": null,
   "metadata": {},
   "outputs": [],
   "source": [
    "#Cloudiness (%) vs. Latitude\n",
    "plt.xlabel('Latitude')\n",
    "plt.ylabel('Cloudiness (%)')\n",
    "plt.title('City Latitude vs. Cloudiness')\n",
    "#plt.xlim(0, max(mouse_count.index)+1)\n",
    "x_axis = latitude\n",
    "y_axis = cloudiness\n",
    "plt.scatter(x_axis, y_axis, marker=\"o\", facecolors=\"blue\", edgecolors=\"black\")"
   ]
  },
  {
   "cell_type": "code",
   "execution_count": null,
   "metadata": {},
   "outputs": [],
   "source": [
    "#Wind Speed (mph) vs. Latitude\n",
    "plt.xlabel('Latitude')\n",
    "plt.ylabel('Wind Speed (mph)')\n",
    "plt.title('City Latitude vs. Wind Speed')\n",
    "#plt.xlim(0, max(mouse_count.index)+1)\n",
    "x_axis = latitude\n",
    "y_axis = wind_speed\n",
    "plt.scatter(x_axis, y_axis, marker=\"o\", facecolors=\"blue\", edgecolors=\"black\")"
   ]
  },
  {
   "cell_type": "code",
   "execution_count": null,
   "metadata": {},
   "outputs": [],
   "source": []
  },
  {
   "cell_type": "code",
   "execution_count": null,
   "metadata": {},
   "outputs": [],
   "source": []
  },
  {
   "cell_type": "code",
   "execution_count": null,
   "metadata": {},
   "outputs": [],
   "source": []
  }
 ],
 "metadata": {
  "anaconda-cloud": {},
  "kernelspec": {
   "display_name": "Python 3",
   "language": "python",
   "name": "python3"
  },
  "language_info": {
   "codemirror_mode": {
    "name": "ipython",
    "version": 3
   },
   "file_extension": ".py",
   "mimetype": "text/x-python",
   "name": "python",
   "nbconvert_exporter": "python",
   "pygments_lexer": "ipython3",
   "version": "3.6.5"
  }
 },
 "nbformat": 4,
 "nbformat_minor": 1
}
